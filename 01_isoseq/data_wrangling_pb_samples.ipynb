{
 "cells": [
  {
   "attachments": {},
   "cell_type": "markdown",
   "metadata": {},
   "source": [
    "Data wrangling to get pbid for primers for Jennifer\n"
   ]
  },
  {
   "cell_type": "code",
   "execution_count": 3,
   "metadata": {},
   "outputs": [],
   "source": [
    "import pandas as pd"
   ]
  },
  {
   "cell_type": "code",
   "execution_count": 4,
   "metadata": {},
   "outputs": [],
   "source": [
    "df_pb = pd.read_csv('/project/sheynkman/projects/smc_proteogenomics/pacbio_analysis_full/01_isoseq/results/isoseq3/collapse/SMC.collapsed.read_stat.txt', sep='\\t')"
   ]
  },
  {
   "cell_type": "code",
   "execution_count": 5,
   "metadata": {},
   "outputs": [],
   "source": [
    "df_sample = pd.read_csv('/project/sheynkman/projects/smc_proteogenomics/pacbio_analysis_full/01_isoseq/results/isoseq3/refine/full.flnc.report.csv')"
   ]
  },
  {
   "cell_type": "code",
   "execution_count": 12,
   "metadata": {},
   "outputs": [],
   "source": [
    "df_merge = pd.merge(df_pb, df_sample, on='id')"
   ]
  },
  {
   "cell_type": "code",
   "execution_count": 14,
   "metadata": {},
   "outputs": [],
   "source": [
    "df_merge = df_merge[['primer', 'id', 'pbid', 'strand']]"
   ]
  },
  {
   "cell_type": "code",
   "execution_count": 15,
   "metadata": {},
   "outputs": [
    {
     "name": "stdout",
     "output_type": "stream",
     "text": [
      "                 primer                                   id        pbid  \\\n",
      "0        S07_3p--NEB_5p  m64152e_220307_164404/161808390/ccs      PB.1.1   \n",
      "1        S07_3p--NEB_5p   m64152e_220305_042004/50334253/ccs      PB.1.1   \n",
      "2        S10_3p--NEB_5p  m64152e_220307_164404/141034237/ccs      PB.1.2   \n",
      "3        S03_3p--NEB_5p   m64152e_220305_042004/24905646/ccs      PB.1.2   \n",
      "4        S05_3p--NEB_5p   m64152e_220305_042004/19991272/ccs      PB.1.2   \n",
      "...                 ...                                  ...         ...   \n",
      "7537520  S01_3p--NEB_5p   m64152e_220307_164404/30475871/ccs  PB.19179.3   \n",
      "7537521  S12_3p--NEB_5p  m64152e_220307_164404/100467816/ccs  PB.19179.4   \n",
      "7537522  S08_3p--NEB_5p   m64152e_220306_103206/95160730/ccs  PB.19179.4   \n",
      "7537523  S04_3p--NEB_5p  m64152e_220306_103206/122750849/ccs  PB.19179.5   \n",
      "7537524  S04_3p--NEB_5p  m64152e_220305_042004/139987248/ccs  PB.19179.5   \n",
      "\n",
      "        strand  \n",
      "0            +  \n",
      "1            +  \n",
      "2            +  \n",
      "3            +  \n",
      "4            +  \n",
      "...        ...  \n",
      "7537520      +  \n",
      "7537521      +  \n",
      "7537522      +  \n",
      "7537523      +  \n",
      "7537524      +  \n",
      "\n",
      "[7537525 rows x 4 columns]\n"
     ]
    }
   ],
   "source": [
    "print(df_merge)"
   ]
  },
  {
   "cell_type": "code",
   "execution_count": 19,
   "metadata": {},
   "outputs": [],
   "source": [
    "df_merge.to_csv(r'pb_sample_mapping.csv', index=False, header=True)"
   ]
  }
 ],
 "metadata": {
  "kernelspec": {
   "display_name": "Python 3",
   "language": "python",
   "name": "python3"
  },
  "language_info": {
   "codemirror_mode": {
    "name": "ipython",
    "version": 3
   },
   "file_extension": ".py",
   "mimetype": "text/x-python",
   "name": "python",
   "nbconvert_exporter": "python",
   "pygments_lexer": "ipython3",
   "version": "3.8.8"
  }
 },
 "nbformat": 4,
 "nbformat_minor": 4
}
