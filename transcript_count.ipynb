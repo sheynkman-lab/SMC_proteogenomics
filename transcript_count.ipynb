{
 "cells": [
  {
   "cell_type": "code",
   "execution_count": null,
   "metadata": {},
   "outputs": [],
   "source": [
    "pip install gtfparse"
   ]
  },
  {
   "cell_type": "markdown",
   "metadata": {},
   "source": [
    "### Importing gtfparse library"
   ]
  },
  {
   "cell_type": "code",
   "execution_count": 1,
   "metadata": {},
   "outputs": [],
   "source": [
    "from gtfparse import read_gtf"
   ]
  },
  {
   "cell_type": "markdown",
   "metadata": {},
   "source": [
    "### Transcript info from SMC_CORRECTED.gtf (SQANTI output)"
   ]
  },
  {
   "cell_type": "code",
   "execution_count": 2,
   "metadata": {},
   "outputs": [
    {
     "name": "stderr",
     "output_type": "stream",
     "text": [
      "INFO:root:Extracted GTF attributes: ['transcript_id', 'gene_id']\n"
     ]
    }
   ],
   "source": [
    "df_corrected = read_gtf(\"/project/sheynkman/projects/smc_proteogenomics/pacbio_analysis_full/03_sqanti/results/sqanti3/SMC_corrected.gtf\")"
   ]
  },
  {
   "cell_type": "code",
   "execution_count": 3,
   "metadata": {},
   "outputs": [
    {
     "name": "stdout",
     "output_type": "stream",
     "text": [
      "shape: (2, 2)\n",
      "┌────────────┬─────────┐\n",
      "│ feature    ┆ counts  │\n",
      "│ ---        ┆ ---     │\n",
      "│ cat        ┆ u32     │\n",
      "╞════════════╪═════════╡\n",
      "│ transcript ┆ 194384  │\n",
      "│ exon       ┆ 1819445 │\n",
      "└────────────┴─────────┘\n"
     ]
    }
   ],
   "source": [
    "print(df_corrected['feature'].value_counts())"
   ]
  },
  {
   "cell_type": "markdown",
   "metadata": {},
   "source": [
    "### Transcript info from SMC_filtered_track.gtf (Civelek lab file)\n",
    "Includes both canonical and non-canonical chromosomes"
   ]
  },
  {
   "cell_type": "code",
   "execution_count": 4,
   "metadata": {},
   "outputs": [
    {
     "name": "stderr",
     "output_type": "stream",
     "text": [
      "INFO:root:Extracted GTF attributes: ['transcript_id', 'gene_id']\n"
     ]
    }
   ],
   "source": [
    "df_filtered = read_gtf(\"/project/sheynkman/projects/smc_proteogenomics/pacbio_analysis_full/SMC_FILTERED_TRACK/01_cpat/SMC_filtered_track_with_non_canon.gtf\")"
   ]
  },
  {
   "cell_type": "code",
   "execution_count": 5,
   "metadata": {},
   "outputs": [
    {
     "name": "stdout",
     "output_type": "stream",
     "text": [
      "shape: (2, 2)\n",
      "┌────────────┬────────┐\n",
      "│ feature    ┆ counts │\n",
      "│ ---        ┆ ---    │\n",
      "│ cat        ┆ u32    │\n",
      "╞════════════╪════════╡\n",
      "│ transcript ┆ 97246  │\n",
      "│ exon       ┆ 854306 │\n",
      "└────────────┴────────┘\n"
     ]
    }
   ],
   "source": [
    "print(df_filtered['feature'].value_counts())"
   ]
  },
  {
   "cell_type": "markdown",
   "metadata": {},
   "source": [
    "### Transcript info from SMC_filtered_track.gtf (Civelek lab file)\n",
    "Original file updated by removing the non-canonical chrs"
   ]
  },
  {
   "cell_type": "code",
   "execution_count": 8,
   "metadata": {},
   "outputs": [
    {
     "name": "stderr",
     "output_type": "stream",
     "text": [
      "INFO:root:Extracted GTF attributes: ['transcript_id', 'gene_id']\n"
     ]
    }
   ],
   "source": [
    "df_filtered_updated = read_gtf(\"/project/sheynkman/projects/smc_proteogenomics/pacbio_analysis_full/SMC_FILTERED_TRACK/01_cpat/SMC_filtered_track_updated.gtf\")"
   ]
  },
  {
   "cell_type": "code",
   "execution_count": 9,
   "metadata": {},
   "outputs": [
    {
     "name": "stdout",
     "output_type": "stream",
     "text": [
      "shape: (2, 2)\n",
      "┌────────────┬────────┐\n",
      "│ feature    ┆ counts │\n",
      "│ ---        ┆ ---    │\n",
      "│ cat        ┆ u32    │\n",
      "╞════════════╪════════╡\n",
      "│ transcript ┆ 97143  │\n",
      "│ exon       ┆ 853993 │\n",
      "└────────────┴────────┘\n"
     ]
    }
   ],
   "source": [
    "print(df_filtered_updated['feature'].value_counts())"
   ]
  },
  {
   "cell_type": "code",
   "execution_count": null,
   "metadata": {},
   "outputs": [],
   "source": []
  }
 ],
 "metadata": {
  "kernelspec": {
   "display_name": "Python 3",
   "language": "python",
   "name": "python3"
  },
  "language_info": {
   "codemirror_mode": {
    "name": "ipython",
    "version": 3
   },
   "file_extension": ".py",
   "mimetype": "text/x-python",
   "name": "python",
   "nbconvert_exporter": "python",
   "pygments_lexer": "ipython3",
   "version": "3.8.8"
  }
 },
 "nbformat": 4,
 "nbformat_minor": 4
}
