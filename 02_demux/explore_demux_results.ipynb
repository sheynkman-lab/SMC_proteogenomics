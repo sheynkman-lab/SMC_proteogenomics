{
 "cells": [
  {
   "cell_type": "code",
   "execution_count": null,
   "metadata": {},
   "outputs": [],
   "source": [
    "import pandas as pd\n",
    "import seaborn as sns\n",
    "import matplotlib.pyplot as plt\n",
    "import matplotlib.ticker as ticker\n",
    "\n",
    "import numpy as np\n",
    "import os\n",
    "\n",
    "plt.style.use('bmh')\n",
    "\n",
    "odir = './correlation_results'\n",
    "if not os.path.exists(odir):\n",
    "    os.mkdir(odir)"
   ]
  },
  {
   "cell_type": "code",
   "execution_count": null,
   "metadata": {},
   "outputs": [],
   "source": [
    "demux_reads = pd.read_table('/Volumes/sheynkman/projects/smc_proteogenomics/full_pacbio_analysis/isoseq/results/demux/demuxed_reads_by_barcode_and_file.tsv')\n",
    "file_rename = {\n",
    "    'ST94_GS211122_hifi_reads' : 'run1',\n",
    "    'ST94b_cell1-1523-m64152e_220305_042004' : 'run2_cell1',\n",
    "    'ST94b_cell2-1525-m64152e_220306_103206' : 'run2_cell2',\n",
    "    'ST94b_cell3-1527-m64152e_220307_164404' : 'run2_cell3',\n",
    "    }\n",
    "demux_reads['file'] = demux_reads['file'].map(file_rename)\n",
    "\n",
    "demux_file = demux_reads.groupby(['pbid', 'file'])['fl_count'].sum().reset_index(name='fl_count')\n",
    "demux_file['log2(FL+1)'] = np.log2(demux_file['fl_count'] + 1)\n",
    "\n"
   ]
  },
  {
   "cell_type": "code",
   "execution_count": null,
   "metadata": {},
   "outputs": [],
   "source": [
    "demux_reads"
   ]
  },
  {
   "cell_type": "code",
   "execution_count": null,
   "metadata": {},
   "outputs": [],
   "source": [
    "\n",
    "sns.violinplot(y = 'file', x = 'log2(FL+1)', data=demux_file, orient='h')\n",
    "plt.savefig('log2_violinplot_by_file.png', bbox_inches='tight')\n"
   ]
  },
  {
   "cell_type": "code",
   "execution_count": null,
   "metadata": {},
   "outputs": [],
   "source": [
    "demux_pivot_file = pd.read_table('./results/demux/demuxed_pivot_by_file.tsv', index_col=0)\n",
    "\n",
    "demux_pivot_file.rename(columns = file_rename, inplace=True)\n",
    "demux_pivot_file = np.log2(demux_pivot_file + 1)\n",
    "corr_file = demux_pivot_file.corr()\n",
    "round(corr_file,2)\n",
    "ax = sns.heatmap(corr_file, vmin=0, annot=True)\n",
    "ax.set_title('log2(FL+1) correlation of files')\n",
    "plt.savefig(os.path.join(odir, 'file_corr.png'), bbox_inches='tight')\n",
    "\n",
    "\n"
   ]
  },
  {
   "cell_type": "code",
   "execution_count": null,
   "metadata": {},
   "outputs": [],
   "source": [
    "plt.style.available"
   ]
  },
  {
   "cell_type": "code",
   "execution_count": null,
   "metadata": {},
   "outputs": [],
   "source": [
    "# plt.scatter(x = demux_pivot_file['ST94_GS211122_hifi_reads'], y = demux_pivot_file['ST94b_cell1-1523-m64152e_220305_042004'])\n",
    "plt.style.use('seaborn-paper')\n",
    "sns.pairplot(demux_pivot_file, diag_kind = \"kde\")\n",
    "# plt.title('Log2(FL+1) correlation pairplot')\n",
    "plt.savefig(os.path.join(odir, 'pairplot_file_log2.png'), bbox_inches='tight')\n",
    "\n",
    "# plt.style.use('seaborn-talk')\n"
   ]
  },
  {
   "cell_type": "code",
   "execution_count": null,
   "metadata": {},
   "outputs": [],
   "source": [
    "plt.style.use('seaborn-talk')\n",
    "\n",
    "demux_pivot_barcode = pd.read_table('./results/demux/demuxed_pivot_by_barcode.tsv', index_col=0)\n",
    "\n",
    "demux_pivot_barcode = np.log2(demux_pivot_barcode + 1)\n",
    "corr_barcode = demux_pivot_barcode.corr()\n",
    "round(corr_barcode,2)\n",
    "sns.heatmap(corr_barcode, vmin=0, annot=True)\n",
    "plt.title('Correlation heatmap of log2(FL+1) abbundance by barcode')\n",
    "plt.savefig(os.path.join(odir, 'barcode_corr_log2.png'), bbox_inches='tight')\n",
    "plt.show()"
   ]
  },
  {
   "cell_type": "code",
   "execution_count": null,
   "metadata": {},
   "outputs": [],
   "source": [
    "demux_pivot_barcode"
   ]
  },
  {
   "cell_type": "code",
   "execution_count": null,
   "metadata": {},
   "outputs": [],
   "source": [
    "demux_pivot = pd.read_table('./results/demux/demuxed_pivot_by_barcode_and_file.tsv', header = [0,1], index_col=0)\n",
    "demux_pivot = np.log2(demux_pivot + 1)\n"
   ]
  },
  {
   "cell_type": "code",
   "execution_count": null,
   "metadata": {},
   "outputs": [],
   "source": [
    "demux_pivot"
   ]
  },
  {
   "cell_type": "code",
   "execution_count": null,
   "metadata": {},
   "outputs": [],
   "source": [
    "# demux_pivot.rename(columns = file_rename, inplace=True)\n",
    "# demux_pivot.columns\n",
    "\n",
    "file_order = ['run1', 'run2_cell1', 'run2_cell2', 'run2_cell3']"
   ]
  },
  {
   "cell_type": "code",
   "execution_count": null,
   "metadata": {},
   "outputs": [],
   "source": [
    "\n",
    "for barcode in demux_pivot.columns.get_level_values(0):\n",
    "    tmp_barcode_pivot = demux_pivot.iloc[:, demux_pivot.columns.get_level_values(0) == barcode]\n",
    "    tmp_barcode_pivot = tmp_barcode_pivot.droplevel(0, axis = 1)\n",
    "\n",
    "    corr = tmp_barcode_pivot.corr()\n",
    "    corr.index = pd.Categorical(corr.index, categories=file_order)\n",
    "    corr.sort_index(inplace=True)\n",
    "    corr = corr[file_order]\n",
    "    round(corr, 2)\n",
    "    ax = sns.heatmap(corr, vmin=0, annot=True)\n",
    "    ax.set_title(f'Correlation heatplot of log2(FL+1) abundance of files\\n{barcode}')\n",
    "\n",
    "    plt.savefig(os.path.join(odir, f'{barcode}_file_corr_log2.png'), bbox_inches='tight')\n",
    "    plt.show()\n",
    "    plt.clf()\n",
    "\n"
   ]
  },
  {
   "cell_type": "code",
   "execution_count": null,
   "metadata": {},
   "outputs": [],
   "source": [
    "demux_reads = pd.read_table('/Volumes/sheynkman/projects/smc_proteogenomics/full_pacbio_analysis/isoseq/results/demux_X/demuxed_reads_by_barcode_and_file.tsv')\n",
    "    \n",
    "demux_reads['file'] = demux_reads['file'].map(file_rename)\n",
    "read_count_file = demux_reads.groupby('file')['fl_count'].sum().reset_index(name='FL reads')\n",
    "plt.style.use('seaborn-poster')\n",
    "ax = sns.barplot(y = 'file', x = 'FL reads', data = read_count_file, color = 'salmon')\n",
    "# plt.ticklabel_format(style='plain', axis='y')\n",
    "ax.xaxis.set_major_formatter(ticker.StrMethodFormatter('{x:,.0f}'))\n",
    "plt.savefig('./corr_results/total_fl_reads_file.png', bbox_inches='tight')"
   ]
  },
  {
   "cell_type": "code",
   "execution_count": null,
   "metadata": {},
   "outputs": [],
   "source": [
    "read_count_barcode = demux_reads.groupby('barcode')['fl_count'].sum().reset_index(name='FL reads')\n",
    "plt.style.use('seaborn-poster')\n",
    "ax = sns.barplot(y = 'barcode', x = 'FL reads', data = read_count_barcode, color = 'salmon', orient='h')\n",
    "# plt.ticklabel_format(style='plain', axis='y')\n",
    "ax.xaxis.set_major_formatter(ticker.StrMethodFormatter('{x:,.0f}'))\n",
    "\n",
    "plt.savefig('./corr_results/total_fl_reads_barcode.png', bbox_inches='tight')"
   ]
  },
  {
   "cell_type": "code",
   "execution_count": null,
   "metadata": {},
   "outputs": [],
   "source": [
    "demux_reads"
   ]
  },
  {
   "cell_type": "code",
   "execution_count": null,
   "metadata": {},
   "outputs": [],
   "source": []
  }
 ],
 "metadata": {
  "interpreter": {
   "hash": "2f40891b4156b07d6f7078c8cafe72a6146e3c2223ae724d19ed7912498cb5b1"
  },
  "kernelspec": {
   "display_name": "Python 3.8.8 ('lrpg')",
   "language": "python",
   "name": "python3"
  },
  "language_info": {
   "codemirror_mode": {
    "name": "ipython",
    "version": 3
   },
   "file_extension": ".py",
   "mimetype": "text/x-python",
   "name": "python",
   "nbconvert_exporter": "python",
   "pygments_lexer": "ipython3",
   "version": "3.8.8"
  },
  "orig_nbformat": 4
 },
 "nbformat": 4,
 "nbformat_minor": 2
}
